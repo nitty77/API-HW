{
 "cells": [
  {
   "cell_type": "code",
   "execution_count": null,
   "id": "c2513fa9-8eb3-43a1-9998-0e5a0ca9704c",
   "metadata": {},
   "outputs": [],
   "source": [
    "import os\n",
    "import requests\n",
    "import pandas as pd\n",
    "from dotenv import load_dotenv\n",
    "import alpaca_trade_api as tradeapi\n",
    "from MCForecastTools import MCSimulation\n",
    "%matplotlib inline"
   ]
  },
  {
   "cell_type": "code",
   "execution_count": null,
   "id": "e8cab566-ff9c-485f-8996-914083b6537d",
   "metadata": {},
   "outputs": [],
   "source": [
    "# Load .env enviroment variables\n",
    "load_dotenv()"
   ]
  },
  {
   "cell_type": "code",
   "execution_count": null,
   "id": "c73940f6-4ca5-4418-b896-569821bbe1b4",
   "metadata": {},
   "outputs": [],
   "source": [
    "# Set current amount of crypto assets\n",
    "my_btc = 1.2\n",
    "my_eth = 5.3"
   ]
  },
  {
   "cell_type": "code",
   "execution_count": null,
   "id": "f51013fb-d987-4c0f-9844-f7e205f7ec07",
   "metadata": {},
   "outputs": [],
   "source": [
    "# Crypto API URLs\n",
    "btc_url = \"https://api.alternative.me/v2/ticker/Bitcoin/?convert=CAD\"\n",
    "eth_url = \"https://api.alternative.me/v2/ticker/Ethereum/?convert=CAD\""
   ]
  },
  {
   "cell_type": "code",
   "execution_count": null,
   "id": "32bfeb73-7674-47cc-b7fa-47d1ac671cda",
   "metadata": {},
   "outputs": [],
   "source": [
    "btc_url = btc_url + \"?format=json\"\n",
    "response_data = requests.get(btc_url).json()\n",
    "\n",
    "# Fetch current BTC price\n",
    "my_btc = response_data['data']['1']['quotes']['USD']['price']\n",
    "\n",
    "eth_url = eth_url + \"?format=json\"\n",
    "response_data = requests.get(eth_url).json()\n",
    "\n",
    "# Fetch current ETH price \n",
    "my_eth = response_data['data']['1027']['quotes']['USD']['price']\n",
    "\n",
    "# Compute current value of my crpto\n",
    "btc_value = my_btc * btc_value\n",
    "eth_value = my_eth * eth_value\n",
    "\n",
    "# Print current crypto wallet balance\n",
    "print(f\"The current value of your {my_btc} BTC is ${btc_value:0.2f}\")\n",
    "print(f\"The current value of your {my_eth} ETH is ${eth_value:0.2f}\")"
   ]
  },
  {
   "cell_type": "code",
   "execution_count": null,
   "id": "7135985a-7afa-45b2-9ba3-f8c1ab2c84e8",
   "metadata": {},
   "outputs": [],
   "source": [
    "# Set current amount of shares\n",
    "my_agg = 200\n",
    "my_spy = 50"
   ]
  },
  {
   "cell_type": "code",
   "execution_count": null,
   "id": "1ed15689-39d7-4c46-8e53-f84bc50933b0",
   "metadata": {},
   "outputs": [],
   "source": [
    "# Set Alpaca API key and secret\n",
    "alpaca_api_key = os.getenv(\"ALPACA_API_KEY\")\n",
    "alpaca_secret_key = os.getenv(\"ALPACA_SECRET_KEY\")"
   ]
  },
  {
   "cell_type": "code",
   "execution_count": null,
   "id": "3a70db05-56d6-48a2-8fe4-a71629af1365",
   "metadata": {},
   "outputs": [],
   "source": [
    "# Create the Alpaca API object\n",
    "api = tradeapi.REST(\n",
    "    alpaca_api_key,\n",
    "    alpaca_secret_key,\n",
    "    api_version=\"v2\"\n",
    ")"
   ]
  },
  {
   "cell_type": "code",
   "execution_count": null,
   "id": "621a7aa4-1c50-4f1e-9abf-5d4e6bca33a3",
   "metadata": {},
   "outputs": [],
   "source": [
    "# Format current date as ISO format\n",
    "start = pd.Timestamp(\"2015-09-10\", tz=\"America/New_York\").isoformat()\n",
    "end = pd.Timestamp(\"2021-09-10\", tz=\"America/New_York\").isoformat()\n",
    "# Set the tickers\n",
    "tickers = [\"AGG\", \"SPY\"]\n",
    "# Set timeframe to '1D' for Alpaca API\n",
    "timeframe = \"1D\"\n",
    "# Get current closing prices for SPY and AGG\n",
    "# (use a limit=1000 parameter to call the most recent 1000 days of data)\n",
    "df_portfolio_year = API.get_barset(\n",
    "    tickers,\n",
    "    timeframe,\n",
    "    start = start,\n",
    "    limit = 1000 ).df\n",
    "# Display sample data\n",
    "df_portfolio_year.head()"
   ]
  },
  {
   "cell_type": "code",
   "execution_count": null,
   "id": "63ea8eb7-bad2-4583-a10c-cb84a80c9328",
   "metadata": {},
   "outputs": [],
   "source": [
    "# Pick AGG and SPY close prices\n",
    "agg_close_price = float(df_portfolio_year[\"AGG\"][\"close\"][0]) \n",
    "spy_close_price = float(df_portfolio_year[\"SPY\"][\"close\"][0])\n",
    "\n",
    "# Print AGG and SPY close prices\n",
    "print(f\"Current AGG closing price: ${agg_close_price}\")\n",
    "print(f\"Current SPY closing price: ${spy_close_price}\")"
   ]
  },
  {
   "cell_type": "code",
   "execution_count": null,
   "id": "506c4826-b541-435c-bcb7-fee9d8f28f18",
   "metadata": {},
   "outputs": [],
   "source": [
    "# Compute the current value of shares\n",
    "agg_value = agg_close_price * my_agg\n",
    "spy_value = spy_close_price * my_spy\n",
    "\n",
    "# Print current value of shares\n",
    "print(f\"The current value of your {my_spy} SPY shares is ${my_spy_value:0.2f}\")\n",
    "print(f\"The current value of your {my_agg} AGG shares is ${my_agg_value:0.2f}\")"
   ]
  },
  {
   "cell_type": "code",
   "execution_count": null,
   "id": "b4d287e3-4959-4524-a869-0703dfcf7ede",
   "metadata": {},
   "outputs": [],
   "source": [
    "# Set monthly household income\n",
    "monthly_income = 12000\n",
    "# Consolidate financial assets data\n",
    "crypto = eth_value + btc_value\n",
    "shares = agg_value + spy_value\n",
    "amount_data = {\n",
    "    \"amount\":[crypto,shares]\n",
    "}\n",
    "index_data = [\"crypto\", \"shares\"]\n",
    "# Create savings DataFrame\n",
    "df_savings = pd.DataFrame(amount_data, index=index_data)\n",
    "# Display savings DataFrame\n",
    "display(df_savings)"
   ]
  },
  {
   "cell_type": "code",
   "execution_count": null,
   "id": "49daf839-656d-4488-81b4-14d96341eaab",
   "metadata": {},
   "outputs": [],
   "source": [
    "# Plot savings pie chart\n",
    "df_savings.plot.pie(y=\"amount\", title=\"Composition of Personal Savings\")"
   ]
  },
  {
   "cell_type": "code",
   "execution_count": null,
   "id": "32eec11d-4062-4f78-8df5-da0d9f8c114a",
   "metadata": {},
   "outputs": [],
   "source": [
    "# Set ideal emergency fund\n",
    "emergency_fund = monthly_income * 3\n",
    "# Calculate total amount of savings\n",
    "total_savings = float(df_savings.sum())\n",
    "# Validate saving health\n",
    "goal_value = emergency_fund - total_savings\n",
    "\n",
    "if total_savings > emergency_fund:\n",
    "    print(\"You have enough money in your emergency fund.\")\n",
    "\n",
    "elif total_savings == emergency_fund:\n",
    "    print(\" You have reached your emergency fund goal.\")\n",
    "\n",
    "else:\n",
    "    print(f\"You are {goal_value} dollars away from reaching your emergency fund goal.\")"
   ]
  },
  {
   "cell_type": "code",
   "execution_count": null,
   "id": "51463bed-4408-4e54-901c-3a74dc8117cd",
   "metadata": {},
   "outputs": [],
   "source": [
    "# Set start and end dates of five years back from today.\n",
    "# Sample results may vary from the solution based on the time frame chosen\n",
    "start_date = pd.Timestamp('2016-05-01', tz='America/New_York').isoformat()\n",
    "end_date = pd.Timestamp('2021-05-01', tz='America/New_York').isoformat()"
   ]
  },
  {
   "cell_type": "code",
   "execution_count": null,
   "id": "25a6bb52-d3ca-4285-a5d7-d4141bf4952c",
   "metadata": {},
   "outputs": [],
   "source": [
    "# Get 5 years' worth of historical data for SPY and AGG\n",
    "# (use a limit=1000 parameter to call the most recent 1000 days of data)\n",
    "\n",
    "# Set the tickers\n",
    "tickers = [\"AGG\", \"SPY\"]\n",
    "\n",
    "# Set timeframe to '1D' for Alpaca API\n",
    "timeframe = \"1D\"\n",
    "\n",
    "# Get current closing prices for SPY and AGG\n",
    "# (use a limit=1000 parameter to call the most recent 1000 days of data)\n",
    "df_stock_data = api.get_barset(\n",
    "    tickers,\n",
    "    timeframe,\n",
    "    start = start_date,\n",
    "    end = end_date,\n",
    "    limit = 1000\n",
    ").df\n",
    "\n",
    "# Display sample data\n",
    "df_stock_data.head()"
   ]
  },
  {
   "cell_type": "code",
   "execution_count": null,
   "id": "c530e8fa-0c86-4593-9ca9-95aeae1b5239",
   "metadata": {},
   "outputs": [],
   "source": [
    "# Set number of simulations\n",
    "num_sims = 1000\n",
    "\n",
    "# Configure a Monte Carlo simulation to forecast 30 years cumulative returns\n",
    "MC_Daily = MCSimulation(\n",
    "    portfolio_data = df_stock_data,\n",
    "    weights = [.40,.60],\n",
    "    num_simulation = num_sims,\n",
    "    num_trading_days = 252*30\n",
    ")"
   ]
  },
  {
   "cell_type": "code",
   "execution_count": null,
   "id": "c44eee10-d86d-48af-80d6-876c10cb11a1",
   "metadata": {},
   "outputs": [],
   "source": [
    "#sim input Data\n",
    "MC_Daily.portfolio_data.head()"
   ]
  },
  {
   "cell_type": "code",
   "execution_count": null,
   "id": "bd6054b7-b7bc-466f-a7ef-15508e7a106e",
   "metadata": {},
   "outputs": [],
   "source": [
    "#30 years of cum. returns\n",
    "MC_Daily.calc_cumulative_return()"
   ]
  },
  {
   "cell_type": "code",
   "execution_count": null,
   "id": "47c0a23e-36be-47da-be5c-1ce773e841f8",
   "metadata": {},
   "outputs": [],
   "source": [
    "#sim outcomes\n",
    "line_plot = MC_Daily.plot_simulation()"
   ]
  },
  {
   "cell_type": "code",
   "execution_count": null,
   "id": "536e8f66-3095-457a-8644-03cacbc1fec6",
   "metadata": {},
   "outputs": [],
   "source": [
    "#probability distribution and confidence intrevals\n",
    "dist_plot = MC_Daily.plot_distribution()"
   ]
  },
  {
   "cell_type": "code",
   "execution_count": null,
   "id": "d042fcc2-7aa0-4d45-84e1-ce0656dde483",
   "metadata": {},
   "outputs": [],
   "source": [
    "# Fetch summary statistics from the Monte Carlo simulation results\n",
    "sum_tbl = MC_Daily.summarize_cumulative_return()\n",
    "# Print summary statistics\n",
    "print(sum_tbl)"
   ]
  },
  {
   "cell_type": "code",
   "execution_count": null,
   "id": "67a54c3b-1066-451f-b8a1-eb4d3acfd341",
   "metadata": {},
   "outputs": [],
   "source": [
    "# Set initial investment\n",
    "initial_investment = 20000\n",
    "# Use the lower and upper `95%` confidence intervals to calculate the range of the possible outcomes of our $20,000\n",
    "ci_lower = round(sum_tbl[8]*initial_investment,2)\n",
    "ci_upper = round(sum_tbl[9]*initial_investment,2)\n",
    "# Print results\n",
    "print(f\"There is a 95% chance that an initial investment of ${initial_investment} in the portfolio\"\n",
    "      f\" over the next 30 years will end within in the range of\"\n",
    "      f\" ${ci_lower} and ${ci_upper}\")"
   ]
  },
  {
   "cell_type": "code",
   "execution_count": null,
   "id": "c3f5846e-c2c5-493c-bb1b-afa9b3be1fbb",
   "metadata": {},
   "outputs": [],
   "source": []
  },
  {
   "cell_type": "code",
   "execution_count": null,
   "id": "ecc63ae4-cf56-4b32-bc89-ac5ed1f4c91d",
   "metadata": {},
   "outputs": [],
   "source": []
  },
  {
   "cell_type": "code",
   "execution_count": null,
   "id": "0d618f37-ae0f-4d72-86ec-ea60de90ac41",
   "metadata": {},
   "outputs": [],
   "source": []
  }
 ],
 "metadata": {
  "kernelspec": {
   "display_name": "Python 3 (ipykernel)",
   "language": "python",
   "name": "python3"
  },
  "language_info": {
   "codemirror_mode": {
    "name": "ipython",
    "version": 3
   },
   "file_extension": ".py",
   "mimetype": "text/x-python",
   "name": "python",
   "nbconvert_exporter": "python",
   "pygments_lexer": "ipython3",
   "version": "3.9.7"
  }
 },
 "nbformat": 4,
 "nbformat_minor": 5
}
